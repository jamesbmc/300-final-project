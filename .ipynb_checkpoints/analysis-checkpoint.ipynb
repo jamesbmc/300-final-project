{
 "cells": [
  {
   "cell_type": "code",
   "execution_count": 57,
   "metadata": {},
   "outputs": [],
   "source": [
    "import pandas as pd\n",
    "import numpy as np\n",
    "import seaborn as sns\n",
    "import matplotlib.pyplot as plt\n",
    "from scipy.stats import chi2_contingency\n",
    "from datetime import datetime\n",
    "from sklearn.neighbors import KNeighborsClassifier\n",
    "from sklearn.model_selection import GridSearchCV\n",
    "from sklearn.tree import DecisionTreeClassifier\n",
    "from sklearn.model_selection import train_test_split\n",
    "from sklearn.feature_selection import RFECV"
   ]
  },
  {
   "cell_type": "code",
   "execution_count": 58,
   "metadata": {},
   "outputs": [],
   "source": [
    "features = pd.read_csv('./data/TrainFeatures.csv')\n",
    "outcome = pd.read_csv('./data/TrainOutcome.csv')"
   ]
  },
  {
   "cell_type": "code",
   "execution_count": 59,
   "metadata": {},
   "outputs": [
    {
     "data": {
      "text/plain": [
       "id                       False\n",
       "amount_tsh               False\n",
       "date_recorded            False\n",
       "funder                    True\n",
       "gps_height               False\n",
       "installer                 True\n",
       "longitude                False\n",
       "latitude                 False\n",
       "wpt_name                 False\n",
       "num_private              False\n",
       "basin                    False\n",
       "subvillage                True\n",
       "region                   False\n",
       "region_code              False\n",
       "district_code            False\n",
       "lga                      False\n",
       "ward                     False\n",
       "population               False\n",
       "public_meeting            True\n",
       "recorded_by              False\n",
       "scheme_management         True\n",
       "scheme_name               True\n",
       "permit                    True\n",
       "construction_year        False\n",
       "extraction_type          False\n",
       "extraction_type_group    False\n",
       "extraction_type_class    False\n",
       "management               False\n",
       "management_group         False\n",
       "payment                  False\n",
       "payment_type             False\n",
       "water_quality            False\n",
       "quality_group            False\n",
       "quantity                 False\n",
       "quantity_group           False\n",
       "source                   False\n",
       "source_type              False\n",
       "source_class             False\n",
       "waterpoint_type          False\n",
       "waterpoint_type_group    False\n",
       "dtype: bool"
      ]
     },
     "execution_count": 59,
     "metadata": {},
     "output_type": "execute_result"
    }
   ],
   "source": [
    "pd.isnull(features).any()"
   ]
  },
  {
   "cell_type": "code",
   "execution_count": 60,
   "metadata": {},
   "outputs": [
    {
     "data": {
      "text/plain": [
       "(59400, 40)"
      ]
     },
     "execution_count": 60,
     "metadata": {},
     "output_type": "execute_result"
    }
   ],
   "source": [
    "features.shape"
   ]
  },
  {
   "cell_type": "code",
   "execution_count": 61,
   "metadata": {},
   "outputs": [
    {
     "data": {
      "text/plain": [
       "(27813, 40)"
      ]
     },
     "execution_count": 61,
     "metadata": {},
     "output_type": "execute_result"
    }
   ],
   "source": [
    "na_removed = features.dropna()\n",
    "na_removed.shape"
   ]
  },
  {
   "cell_type": "code",
   "execution_count": 62,
   "metadata": {},
   "outputs": [
    {
     "name": "stderr",
     "output_type": "stream",
     "text": [
      "C:\\Users\\james\\Anaconda3\\lib\\site-packages\\pandas\\core\\indexing.py:189: SettingWithCopyWarning: \n",
      "A value is trying to be set on a copy of a slice from a DataFrame\n",
      "\n",
      "See the caveats in the documentation: http://pandas.pydata.org/pandas-docs/stable/indexing.html#indexing-view-versus-copy\n",
      "  self._setitem_with_indexer(indexer, value)\n"
     ]
    },
    {
     "data": {
      "text/plain": [
       "id                       False\n",
       "amount_tsh               False\n",
       "date_recorded            False\n",
       "funder                   False\n",
       "gps_height               False\n",
       "installer                False\n",
       "longitude                False\n",
       "latitude                 False\n",
       "wpt_name                 False\n",
       "num_private              False\n",
       "basin                    False\n",
       "subvillage               False\n",
       "region                   False\n",
       "region_code              False\n",
       "district_code            False\n",
       "lga                      False\n",
       "ward                     False\n",
       "population               False\n",
       "public_meeting           False\n",
       "recorded_by              False\n",
       "scheme_management        False\n",
       "scheme_name              False\n",
       "permit                   False\n",
       "construction_year        False\n",
       "extraction_type          False\n",
       "extraction_type_group    False\n",
       "extraction_type_class    False\n",
       "management               False\n",
       "management_group         False\n",
       "payment                  False\n",
       "payment_type             False\n",
       "water_quality            False\n",
       "quality_group            False\n",
       "quantity                 False\n",
       "quantity_group           False\n",
       "source                   False\n",
       "source_type              False\n",
       "source_class             False\n",
       "waterpoint_type          False\n",
       "waterpoint_type_group    False\n",
       "dtype: bool"
      ]
     },
     "execution_count": 62,
     "metadata": {},
     "output_type": "execute_result"
    }
   ],
   "source": [
    "null_indices = features.columns[features.isna().any()].tolist()\n",
    "for index in null_indices:\n",
    "    mode = features[index].mode().iloc[0]\n",
    "    features[index].loc[pd.isnull(features[index])] = mode\n",
    "    \n",
    "pd.isnull(features).any()"
   ]
  },
  {
   "cell_type": "code",
   "execution_count": 63,
   "metadata": {},
   "outputs": [
    {
     "data": {
      "text/plain": [
       "array(['date_recorded', 'funder', 'installer', 'wpt_name', 'basin',\n",
       "       'subvillage', 'region', 'lga', 'ward', 'recorded_by',\n",
       "       'scheme_management', 'scheme_name', 'extraction_type',\n",
       "       'extraction_type_group', 'extraction_type_class', 'management',\n",
       "       'management_group', 'payment', 'payment_type', 'water_quality',\n",
       "       'quality_group', 'quantity', 'quantity_group', 'source',\n",
       "       'source_type', 'source_class', 'waterpoint_type',\n",
       "       'waterpoint_type_group'], dtype=object)"
      ]
     },
     "execution_count": 63,
     "metadata": {},
     "output_type": "execute_result"
    }
   ],
   "source": [
    "categorical_indices = features.loc[:, features.dtypes == object].columns.values\n",
    "continuous_indices = features.loc[:, features.dtypes != object].columns.values\n",
    "categorical_indices"
   ]
  },
  {
   "cell_type": "code",
   "execution_count": 64,
   "metadata": {},
   "outputs": [
    {
     "data": {
      "text/plain": [
       "array(['id', 'amount_tsh', 'gps_height', 'longitude', 'latitude',\n",
       "       'num_private', 'region_code', 'district_code', 'population',\n",
       "       'public_meeting', 'permit', 'construction_year'], dtype=object)"
      ]
     },
     "execution_count": 64,
     "metadata": {},
     "output_type": "execute_result"
    }
   ],
   "source": [
    "continuous_indices"
   ]
  },
  {
   "cell_type": "markdown",
   "metadata": {},
   "source": [
    "We need to disregard id since that will have no predictive power (as an arbitrarily assigned variable). We also need to correctly handle date_recorded by converting it into time since epoch. Region_code and district_code are incorrectly designated as continuous variables but that does not matter since our dependent variable is categorical and so we will be using chi-square tests to assess statistical significance."
   ]
  },
  {
   "cell_type": "code",
   "execution_count": 65,
   "metadata": {},
   "outputs": [
    {
     "name": "stdout",
     "output_type": "stream",
     "text": [
      "done with funder\n",
      "done with installer\n",
      "done with wpt_name\n",
      "done with basin\n",
      "done with subvillage\n",
      "done with region\n",
      "done with lga\n",
      "done with ward\n",
      "done with recorded_by\n",
      "done with scheme_management\n",
      "done with scheme_name\n",
      "done with extraction_type\n",
      "done with extraction_type_group\n",
      "done with extraction_type_class\n",
      "done with management\n",
      "done with management_group\n",
      "done with payment\n",
      "done with payment_type\n",
      "done with water_quality\n",
      "done with quality_group\n",
      "done with quantity\n",
      "done with quantity_group\n",
      "done with source\n",
      "done with source_type\n",
      "done with source_class\n",
      "done with waterpoint_type\n",
      "done with waterpoint_type_group\n"
     ]
    }
   ],
   "source": [
    "# Removing date recorded (will handle later) and id\n",
    "categorical_indices = categorical_indices[1:]\n",
    "continuous_indices = continuous_indices[1:]\n",
    "\n",
    "transformed_features = features.copy();\n",
    "transformed_features\n",
    "\n",
    "# Dropping waterpoint name\n",
    "transformed_features = transformed_features.drop('wpt_name', axis=1)\n",
    "\n",
    "for index in categorical_indices:\n",
    "    transformed_features[index] = features[index].replace(features[index].unique(), np.arange(len(features[index].unique()))).astype('int')\n",
    "    print(\"done with \" + index)"
   ]
  },
  {
   "cell_type": "code",
   "execution_count": 66,
   "metadata": {},
   "outputs": [
    {
     "data": {
      "text/plain": [
       "0        0\n",
       "1        0\n",
       "2        0\n",
       "3        2\n",
       "4        0\n",
       "5        0\n",
       "6        2\n",
       "7        2\n",
       "8        2\n",
       "9        0\n",
       "10       0\n",
       "11       0\n",
       "12       0\n",
       "13       0\n",
       "14       0\n",
       "15       0\n",
       "16       2\n",
       "17       2\n",
       "18       1\n",
       "19       0\n",
       "20       0\n",
       "21       0\n",
       "22       1\n",
       "23       0\n",
       "24       0\n",
       "25       1\n",
       "26       0\n",
       "27       0\n",
       "28       2\n",
       "29       0\n",
       "        ..\n",
       "59370    0\n",
       "59371    2\n",
       "59372    2\n",
       "59373    0\n",
       "59374    0\n",
       "59375    0\n",
       "59376    2\n",
       "59377    2\n",
       "59378    0\n",
       "59379    0\n",
       "59380    2\n",
       "59381    2\n",
       "59382    2\n",
       "59383    0\n",
       "59384    2\n",
       "59385    0\n",
       "59386    0\n",
       "59387    0\n",
       "59388    0\n",
       "59389    0\n",
       "59390    0\n",
       "59391    2\n",
       "59392    2\n",
       "59393    0\n",
       "59394    2\n",
       "59395    0\n",
       "59396    0\n",
       "59397    0\n",
       "59398    0\n",
       "59399    0\n",
       "Name: status_group, Length: 59400, dtype: int32"
      ]
     },
     "execution_count": 66,
     "metadata": {},
     "output_type": "execute_result"
    }
   ],
   "source": [
    "categorical_outcome = outcome['status_group']\n",
    "categorical_outcome = categorical_outcome.replace(['functional', 'functional needs repair', 'non functional'], [0, 1, 2]).astype('int')\n",
    "categorical_outcome"
   ]
  },
  {
   "cell_type": "code",
   "execution_count": 67,
   "metadata": {},
   "outputs": [],
   "source": [
    "# Converting date_recorded to time since epoch\n",
    "epoch_time = []\n",
    "\n",
    "for date in features['date_recorded']:\n",
    "    date = datetime.strptime(date, '%Y-%m-%d')\n",
    "    epoch_time.append(date.timestamp())\n",
    "    \n",
    "transformed_features['date_recorded'] = epoch_time"
   ]
  },
  {
   "cell_type": "code",
   "execution_count": 68,
   "metadata": {
    "scrolled": false
   },
   "outputs": [
    {
     "name": "stdout",
     "output_type": "stream",
     "text": [
      "funder: 0.0\n",
      "installer: 0.0\n",
      "wpt_name: 3.167496602060987e-15\n",
      "basin: 0.0\n",
      "subvillage: 0.0\n",
      "region: 0.0\n",
      "lga: 0.0\n",
      "ward: 0.0\n",
      "recorded_by: 1.0\n",
      "scheme_management: 0.0\n",
      "scheme_name: 0.0\n",
      "extraction_type: 0.0\n",
      "extraction_type_group: 0.0\n",
      "extraction_type_class: 0.0\n",
      "management: 0.0\n",
      "management_group: 1.7446261385259768e-57\n",
      "payment: 0.0\n",
      "payment_type: 0.0\n",
      "water_quality: 0.0\n",
      "quality_group: 0.0\n",
      "quantity: 0.0\n",
      "quantity_group: 0.0\n",
      "source: 0.0\n",
      "source_type: 0.0\n",
      "source_class: 1.983538119535752e-126\n",
      "waterpoint_type: 0.0\n",
      "waterpoint_type_group: 0.0\n",
      "amount_tsh: 0.0\n",
      "gps_height: 1.935832234019064e-40\n",
      "longitude: 0.9999988241305058\n",
      "latitude: 0.9999988211760183\n",
      "num_private: 1.3700364563899945e-12\n",
      "region_code: 0.0\n",
      "district_code: 0.0\n",
      "population: 1.2004595650770784e-174\n",
      "public_meeting: 6.695873894822635e-63\n",
      "permit: 1.5416464629999488e-15\n",
      "construction_year: 0.0\n"
     ]
    }
   ],
   "source": [
    "for index in categorical_indices:\n",
    "    table = pd.crosstab(transformed_features[index], categorical_outcome)\n",
    "    c, p, dof, expected = chi2_contingency(table.values)\n",
    "    print(index + ': ' + str(p))\n",
    "    \n",
    "for index in continuous_indices:\n",
    "    table = pd.crosstab(transformed_features[index], categorical_outcome)\n",
    "    c, p, dof, expected = chi2_contingency(table.values)\n",
    "    print(index + ': ' + str(p))"
   ]
  },
  {
   "cell_type": "markdown",
   "metadata": {},
   "source": [
    "Features that have a statistically significant difference with water pump condition:\n",
    "\n",
    "- wpt name\n",
    "- public meeting\n",
    "- permit\n",
    "- management group\n",
    "- source class\n",
    "- gps height\n",
    "- num private\n",
    "- population\n",
    "\n",
    "wpt_name is the name of the water pump so we will not use that."
   ]
  },
  {
   "cell_type": "code",
   "execution_count": 69,
   "metadata": {},
   "outputs": [],
   "source": [
    "column_selector = ['public_meeting', 'permit', 'management_group', 'source_class', 'gps_height', 'num_private', 'population']"
   ]
  },
  {
   "cell_type": "code",
   "execution_count": 70,
   "metadata": {},
   "outputs": [
    {
     "name": "stderr",
     "output_type": "stream",
     "text": [
      "C:\\Users\\james\\Anaconda3\\lib\\site-packages\\seaborn\\categorical.py:1460: FutureWarning: remove_na is deprecated and is a private function. Do not use.\n",
      "  stat_data = remove_na(group_data)\n"
     ]
    },
    {
     "data": {
      "text/plain": [
       "Text(0,0.5,'Count of Occurrences')"
      ]
     },
     "execution_count": 70,
     "metadata": {},
     "output_type": "execute_result"
    },
    {
     "data": {
      "image/png": "[encoded data removed]",
      "text/plain": [
       "<matplotlib.figure.Figure at 0x172173f99b0>"
      ]
     },
     "metadata": {},
     "output_type": "display_data"
    }
   ],
   "source": [
    "fig, ax = plt.subplots()\n",
    "fig = sns.countplot(x=\"status_group\", data=outcome)\n",
    "ax.set_title('State of Water Pumps in Tanzania')\n",
    "ax.set_xlabel('Water Pump State')\n",
    "ax.set_ylabel('Count of Occurrences')"
   ]
  },
  {
   "cell_type": "code",
   "execution_count": 71,
   "metadata": {},
   "outputs": [
    {
     "name": "stderr",
     "output_type": "stream",
     "text": [
      "C:\\Users\\james\\Anaconda3\\lib\\site-packages\\seaborn\\categorical.py:1460: FutureWarning: remove_na is deprecated and is a private function. Do not use.\n",
      "  stat_data = remove_na(group_data)\n"
     ]
    },
    {
     "data": {
      "text/plain": [
       "Text(0,0.5,'Count of Occurrences')"
      ]
     },
     "execution_count": 71,
     "metadata": {},
     "output_type": "execute_result"
    },
    {
     "data": {
      "image/png": "[encoded data removed]",
      "text/plain": [
       "<matplotlib.figure.Figure at 0x172173f9550>"
      ]
     },
     "metadata": {},
     "output_type": "display_data"
    }
   ],
   "source": [
    "fig, ax = plt.subplots()\n",
    "fig = sns.countplot(x=\"permit\", data=features)\n",
    "ax.set_title('Are Water Pumps in Tanzania Permitted or Not?')\n",
    "ax.set_xlabel('The Water Pump is Permitted')\n",
    "ax.set_ylabel('Count of Occurrences')"
   ]
  },
  {
   "cell_type": "code",
   "execution_count": 72,
   "metadata": {},
   "outputs": [
    {
     "data": {
      "image/png": "[encoded data removed]",
      "text/plain": [
       "<matplotlib.figure.Figure at 0x171b0bedd68>"
      ]
     },
     "metadata": {},
     "output_type": "display_data"
    }
   ],
   "source": [
    "groups = features['management_group'].unique()\n",
    "sizes = []\n",
    "for group in groups:\n",
    "    sizes.append(len(features.loc[features['management_group'] == group]))\n",
    "fig, ax = plt.subplots()\n",
    "plt.pie(sizes, labels=groups, autopct='%1.1f%%', shadow=True)\n",
    "ax.set_title('Management Groups for Tanzania Water Pumps')\n",
    "fig.set_size_inches(12,12)"
   ]
  },
  {
   "cell_type": "markdown",
   "metadata": {},
   "source": [
    "parastatal: separate from the government but activities serve the government"
   ]
  },
  {
   "cell_type": "code",
   "execution_count": 73,
   "metadata": {},
   "outputs": [
    {
     "name": "stderr",
     "output_type": "stream",
     "text": [
      "C:\\Users\\james\\Anaconda3\\lib\\site-packages\\seaborn\\categorical.py:1460: FutureWarning: remove_na is deprecated and is a private function. Do not use.\n",
      "  stat_data = remove_na(group_data)\n"
     ]
    },
    {
     "data": {
      "text/plain": [
       "Text(0,0.5,'Count of Occurrences')"
      ]
     },
     "execution_count": 73,
     "metadata": {},
     "output_type": "execute_result"
    },
    {
     "data": {
      "image/png": "[encoded data removed]",
      "text/plain": [
       "<matplotlib.figure.Figure at 0x171b0fa3208>"
      ]
     },
     "metadata": {},
     "output_type": "display_data"
    }
   ],
   "source": [
    "fig, ax = plt.subplots()\n",
    "fig = sns.countplot(x=\"public_meeting\", data=features)\n",
    "ax.set_title('Public Meeting before Pump Installation?')\n",
    "ax.set_xlabel('There was a Public Meeting Before Installation')\n",
    "ax.set_ylabel('Count of Occurrences')"
   ]
  },
  {
   "cell_type": "code",
   "execution_count": 74,
   "metadata": {},
   "outputs": [
    {
     "name": "stderr",
     "output_type": "stream",
     "text": [
      "C:\\Users\\james\\Anaconda3\\lib\\site-packages\\seaborn\\categorical.py:1460: FutureWarning: remove_na is deprecated and is a private function. Do not use.\n",
      "  stat_data = remove_na(group_data)\n"
     ]
    },
    {
     "data": {
      "text/plain": [
       "Text(0,0.5,'Count of Occurrences')"
      ]
     },
     "execution_count": 74,
     "metadata": {},
     "output_type": "execute_result"
    },
    {
     "data": {
      "image/png": "[encoded data removed]",
      "text/plain": [
       "<matplotlib.figure.Figure at 0x171b0fa30b8>"
      ]
     },
     "metadata": {},
     "output_type": "display_data"
    }
   ],
   "source": [
    "fig, ax = plt.subplots()\n",
    "fig = sns.countplot(x=\"source_class\", data=features)\n",
    "ax.set_title('Water Source Type Distribution')\n",
    "ax.set_xlabel('Type of Water Source')\n",
    "ax.set_ylabel('Count of Occurrences')"
   ]
  },
  {
   "cell_type": "code",
   "execution_count": 75,
   "metadata": {},
   "outputs": [
    {
     "data": {
      "text/plain": [
       "Text(0,0.5,'Population around Water Pump')"
      ]
     },
     "execution_count": 75,
     "metadata": {},
     "output_type": "execute_result"
    },
    {
     "data": {
      "image/png": "[encoded data removed]",
      "text/plain": [
       "<matplotlib.figure.Figure at 0x171b170b5c0>"
      ]
     },
     "metadata": {},
     "output_type": "display_data"
    }
   ],
   "source": [
    "fig, ax = plt.subplots()\n",
    "fig = plt.scatter(x=\"id\", y=\"population\", data=features)\n",
    "ax.set_title('Population Distribution by Water Pump Id')\n",
    "ax.set_xlabel('Water Pump Id')\n",
    "ax.set_ylabel('Population around Water Pump')"
   ]
  },
  {
   "cell_type": "code",
   "execution_count": 76,
   "metadata": {},
   "outputs": [
    {
     "data": {
      "text/plain": [
       "Text(0,0.5,'Private Water Pumps around Water Pump')"
      ]
     },
     "execution_count": 76,
     "metadata": {},
     "output_type": "execute_result"
    },
    {
     "data": {
      "image/png": "[encoded data removed]",
      "text/plain": [
       "<matplotlib.figure.Figure at 0x171b148d5c0>"
      ]
     },
     "metadata": {},
     "output_type": "display_data"
    }
   ],
   "source": [
    "fig, ax = plt.subplots()\n",
    "fig = plt.scatter(x=\"id\", y=\"num_private\", data=features)\n",
    "ax.set_title('Private Water Pump Distribution by Water Pump Id')\n",
    "ax.set_xlabel('Water Pump Id')\n",
    "ax.set_ylabel('Private Water Pumps around Water Pump')"
   ]
  },
  {
   "cell_type": "code",
   "execution_count": 77,
   "metadata": {},
   "outputs": [],
   "source": [
    "train_features, test_features, train_outcome, test_outcome = train_test_split(\n",
    "    transformed_features, # [column_selector]\n",
    "    categorical_outcome,\n",
    "    test_size=0.30\n",
    ")"
   ]
  },
  {
   "cell_type": "code",
   "execution_count": 78,
   "metadata": {},
   "outputs": [],
   "source": [
    "param_grid = {'criterion': ['gini', 'entropy']}\n",
    "\n",
    "grid = GridSearchCV(DecisionTreeClassifier(), param_grid, scoring=\"accuracy\") "
   ]
  },
  {
   "cell_type": "code",
   "execution_count": 79,
   "metadata": {},
   "outputs": [
    {
     "data": {
      "text/plain": [
       "0.7369809203142537"
      ]
     },
     "execution_count": 79,
     "metadata": {},
     "output_type": "execute_result"
    }
   ],
   "source": [
    "grid.fit(train_features, train_outcome)\n",
    "grid.score(test_features, test_outcome)"
   ]
  },
  {
   "cell_type": "code",
   "execution_count": 80,
   "metadata": {},
   "outputs": [
    {
     "data": {
      "text/plain": [
       "{'criterion': 'entropy'}"
      ]
     },
     "execution_count": 80,
     "metadata": {},
     "output_type": "execute_result"
    }
   ],
   "source": [
    "grid.best_params_"
   ]
  },
  {
   "cell_type": "code",
   "execution_count": 81,
   "metadata": {},
   "outputs": [],
   "source": [
    "tree_test_predict = grid.predict(test_features)"
   ]
  },
  {
   "cell_type": "code",
   "execution_count": 82,
   "metadata": {},
   "outputs": [],
   "source": [
    "param_grid2 = {'n_neighbors':range(1, 11), 'weights': ['uniform', 'distance']}\n",
    "\n",
    "grid2 = GridSearchCV(KNeighborsClassifier(), param_grid2, scoring=\"accuracy\") "
   ]
  },
  {
   "cell_type": "code",
   "execution_count": 83,
   "metadata": {},
   "outputs": [
    {
     "data": {
      "text/plain": [
       "0.5395622895622896"
      ]
     },
     "execution_count": 83,
     "metadata": {},
     "output_type": "execute_result"
    }
   ],
   "source": [
    "grid2.fit(train_features, train_outcome)\n",
    "grid2.score(test_features, test_outcome)"
   ]
  },
  {
   "cell_type": "code",
   "execution_count": 84,
   "metadata": {},
   "outputs": [
    {
     "data": {
      "text/plain": [
       "{'n_neighbors': 10, 'weights': 'uniform'}"
      ]
     },
     "execution_count": 84,
     "metadata": {},
     "output_type": "execute_result"
    }
   ],
   "source": [
    "grid2.best_params_"
   ]
  },
  {
   "cell_type": "code",
   "execution_count": 85,
   "metadata": {},
   "outputs": [],
   "source": [
    "knn_test_predict = grid2.predict(test_features)"
   ]
  },
  {
   "cell_type": "markdown",
   "metadata": {},
   "source": [
    "It looks like the decision tree classifier does a lot better than the k nearest neighbors classifier."
   ]
  },
  {
   "cell_type": "code",
   "execution_count": 86,
   "metadata": {},
   "outputs": [
    {
     "data": {
      "image/png": "[encoded data removed]",
      "text/plain": [
       "<matplotlib.figure.Figure at 0x171b14e0588>"
      ]
     },
     "metadata": {},
     "output_type": "display_data"
    }
   ],
   "source": [
    "test_features = pd.DataFrame(test_features)\n",
    "test_features['prediction'] = tree_test_predict\n",
    "test_features['actual'] = test_outcome\n",
    "\n",
    "test_features.plot('actual', 'prediction', kind='scatter')\n",
    "plt.plot(test_features.actual, test_features.actual)\n",
    "plt.show()"
   ]
  },
  {
   "cell_type": "code",
   "execution_count": 87,
   "metadata": {},
   "outputs": [],
   "source": [
    "test_features['err'] = test_features['prediction'] - test_features['actual']"
   ]
  },
  {
   "cell_type": "code",
   "execution_count": 88,
   "metadata": {},
   "outputs": [
    {
     "name": "stderr",
     "output_type": "stream",
     "text": [
      "C:\\Users\\james\\Anaconda3\\lib\\site-packages\\seaborn\\categorical.py:598: FutureWarning: remove_na is deprecated and is a private function. Do not use.\n",
      "  kde_data = remove_na(group_data)\n",
      "C:\\Users\\james\\Anaconda3\\lib\\site-packages\\seaborn\\categorical.py:826: FutureWarning: remove_na is deprecated and is a private function. Do not use.\n",
      "  violin_data = remove_na(group_data)\n"
     ]
    },
    {
     "data": {
      "text/plain": [
       "<matplotlib.axes._subplots.AxesSubplot at 0x172173f9b38>"
      ]
     },
     "execution_count": 88,
     "metadata": {},
     "output_type": "execute_result"
    },
    {
     "data": {
      "image/png": "[encoded data removed]",
      "text/plain": [
       "<matplotlib.figure.Figure at 0x171b15144a8>"
      ]
     },
     "metadata": {},
     "output_type": "display_data"
    }
   ],
   "source": [
    "sns.violinplot(test_features['actual'], test_features['err'])"
   ]
  },
  {
   "cell_type": "code",
   "execution_count": 90,
   "metadata": {},
   "outputs": [],
   "source": [
    "feature_selector = RFECV(estimator=DecisionTreeClassifier(criterion='entropy'), step=1, scoring=\"accuracy\").fit(transformed_features, categorical_outcome)\n",
    "columns = feature_selector.get_support(indices=True)\n",
    "colnames = transformed_features.columns[columns]\n",
    "\n",
    "transformed_features = transformed_features[colnames]"
   ]
  },
  {
   "cell_type": "code",
   "execution_count": 91,
   "metadata": {},
   "outputs": [
    {
     "data": {
      "text/plain": [
       "DecisionTreeClassifier(class_weight=None, criterion='entropy', max_depth=None,\n",
       "            max_features=None, max_leaf_nodes=None,\n",
       "            min_impurity_decrease=0.0, min_impurity_split=None,\n",
       "            min_samples_leaf=1, min_samples_split=2,\n",
       "            min_weight_fraction_leaf=0.0, presort=False, random_state=None,\n",
       "            splitter='best')"
      ]
     },
     "execution_count": 91,
     "metadata": {},
     "output_type": "execute_result"
    }
   ],
   "source": [
    "clf = DecisionTreeClassifier(criterion='entropy')\n",
    "clf.fit(transformed_features, categorical_outcome)"
   ]
  },
  {
   "cell_type": "code",
   "execution_count": 93,
   "metadata": {},
   "outputs": [],
   "source": [
    "test_features = pd.read_csv('./data/TestFeatures.csv')\n",
    "\n",
    "test_features = test_features[colnames]"
   ]
  },
  {
   "cell_type": "markdown",
   "metadata": {},
   "source": [
    "We need to handle nulls and convert categorical data and dates to integers again."
   ]
  },
  {
   "cell_type": "code",
   "execution_count": 94,
   "metadata": {},
   "outputs": [
    {
     "name": "stdout",
     "output_type": "stream",
     "text": [
      "done with funder\n",
      "done with installer\n",
      "done with basin\n",
      "done with subvillage\n",
      "done with region\n",
      "done with lga\n",
      "done with ward\n",
      "done with scheme_name\n",
      "done with extraction_type\n",
      "done with extraction_type_group\n",
      "done with extraction_type_class\n",
      "done with management\n",
      "done with payment\n",
      "done with payment_type\n",
      "done with quantity\n",
      "done with quantity_group\n",
      "done with source\n",
      "done with source_type\n",
      "done with waterpoint_type\n",
      "done with waterpoint_type_group\n",
      "done with wpt_name\n"
     ]
    }
   ],
   "source": [
    "null_indices = test_features.columns[test_features.isna().any()].tolist()\n",
    "for index in null_indices:\n",
    "    mode = test_features[index].mode().iloc[0]\n",
    "    test_features[index].loc[pd.isnull(test_features[index])] = mode\n",
    "    \n",
    "# Converting date_recorded to time since epoch\n",
    "epoch_time = []\n",
    "\n",
    "for date in test_features['date_recorded']:\n",
    "    date = datetime.strptime(date, '%Y-%m-%d')\n",
    "    epoch_time.append(date.timestamp())\n",
    "    \n",
    "test_features['date_recorded'] = epoch_time\n",
    "    \n",
    "categorical_indices = test_features.loc[:, test_features.dtypes == object].columns.values\n",
    "\n",
    "for index in categorical_indices:\n",
    "    test_features[index] = test_features[index].replace(test_features[index].unique(), np.arange(len(test_features[index].unique()))).astype('int')\n",
    "    print(\"done with \" + index)"
   ]
  },
  {
   "cell_type": "code",
   "execution_count": 95,
   "metadata": {},
   "outputs": [],
   "source": [
    "predictions = clf.predict(test_features)\n",
    "\n",
    "test_outcome = pd.read_csv('./data/SubmissionFormat.csv')\n",
    "test_outcome['status_group'] = predictions\n",
    "test_outcome['status_group'] = test_outcome['status_group'].replace([0, 1, 2], ['functional', 'functional needs repair', 'non functional'])\n",
    "\n",
    "test_outcome.to_csv('./data/Submission.csv', index=False)"
   ]
  }
 ],
 "metadata": {
  "kernelspec": {
   "display_name": "Python 3",
   "language": "python",
   "name": "python3"
  },
  "language_info": {
   "codemirror_mode": {
    "name": "ipython",
    "version": 3
   },
   "file_extension": ".py",
   "mimetype": "text/x-python",
   "name": "python",
   "nbconvert_exporter": "python",
   "pygments_lexer": "ipython3",
   "version": "3.6.3"
  }
 },
 "nbformat": 4,
 "nbformat_minor": 2
}
